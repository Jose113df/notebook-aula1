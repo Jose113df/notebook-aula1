{
 "cells": [
  {
   "cell_type": "markdown",
   "metadata": {},
   "source": [
    "## Aula 8 - laços de repetição\n",
    "--------------"
   ]
  },
  {
   "cell_type": "markdown",
   "metadata": {},
   "source": [
    "A essa altura do campeonato você já deve ter visto que os programas só rodam uma única vez Caso o usuáriodeseje rodar o programa de novo ele deverá executar mais uma "
   ]
  },
  {
   "cell_type": "markdown",
   "metadata": {},
   "source": [
    "#### While\n",
    "O While é um bloco que repete um algoritmo enquanto uma determinada condição for verdadeira. Vamos começãr com uma demonstração bem simples criar um programa que exibe uma contagem de 10 a 0, coisa simples"
   ]
  },
  {
   "cell_type": "code",
   "execution_count": null,
   "metadata": {},
   "outputs": [],
   "source": [
    "#declaração de variavel\n",
    "numero = 10\n",
    "\n",
    "#loop \n",
    "while numero >= -10:\n",
    "    print (numero)\n",
    "    numero -= 1"
   ]
  },
  {
   "cell_type": "markdown",
   "metadata": {},
   "source": [
    "#### continue\n",
    "\n",
    "O comando continue serve para que a execução do restante do bloco seja desconsiderada e o código ignorado. O loop terá sua contagem contabilizada e o programa retorna para o inicio do loop."
   ]
  },
  {
   "cell_type": "code",
   "execution_count": null,
   "metadata": {},
   "outputs": [],
   "source": [
    "cont = 0 \n",
    "while cont <=10:\n",
    "    cont += 1\n",
    "    if cont % 2 == 0:\n",
    "        print(cont)\n",
    "    else:\n",
    "        continue\n",
    "    print(\"continuando...\")"
   ]
  },
  {
   "cell_type": "markdown",
   "metadata": {},
   "source": [
    "#### Break\n",
    "\n",
    "o comando break faz o contrário encerra imediatamente o loop e vai para o final do programa, sem terminar o loop. mesmo que a condição esteja sendo atendida."
   ]
  },
  {
   "cell_type": "code",
   "execution_count": 7,
   "metadata": {},
   "outputs": [
    {
     "name": "stdout",
     "output_type": "stream",
     "text": [
      "2\n",
      "continuando...\n",
      "4\n",
      "continuando...\n",
      "6\n",
      "continuando...\n"
     ]
    }
   ],
   "source": [
    "cont = 0 \n",
    "while cont <=15:\n",
    "    cont += 1\n",
    "    if cont % 2 == 0:\n",
    "        print(cont)\n",
    "    elif cont >= 7:\n",
    "        break\n",
    "    else:\n",
    "        continue \n",
    "    print(\"continuando...\")"
   ]
  },
  {
   "cell_type": "markdown",
   "metadata": {},
   "source": [
    "#### Pass\n",
    "\n"
   ]
  },
  {
   "cell_type": "code",
   "execution_count": null,
   "metadata": {},
   "outputs": [],
   "source": [
    "cont = 0 \n",
    "while cont <= 20:\n",
    "    cont += 1\n",
    "    if cont % 2 == 0:\n",
    "        print(cont)\n",
    "    elif cont < 5:\n",
    "        pass # ou ...\n",
    "    elif cont >= 15:\n",
    "        break\n",
    "    else:\n",
    "        continue \n",
    "    print(\"continuando...\")"
   ]
  },
  {
   "cell_type": "code",
   "execution_count": 10,
   "metadata": {},
   "outputs": [
    {
     "name": "stdout",
     "output_type": "stream",
     "text": [
      "Contagem regressiva:  3 ...\n",
      "Contagem regressiva:  2 ...\n",
      "Contagem regressiva:  1 ...\n",
      "Contagem regressiva:  0 ...\n",
      "BOOOOOOOOM\n"
     ]
    }
   ],
   "source": [
    "import os\n",
    "import time \n",
    "\n",
    "cont = int(input(\"digite um numero inteiro: \"))\n",
    "\n",
    "while cont >=0:\n",
    "    os.system('cls') #limpar o terminal\n",
    "    print(\"Contagem regressiva: \",cont,\"...\")\n",
    "    time.sleep(1) #atrasa o proximo comando\n",
    "    cont -= 1\n",
    "\n",
    "os.system(\"cls\")\n",
    "print(\"BOOOOOOOOM\")"
   ]
  },
  {
   "cell_type": "code",
   "execution_count": 11,
   "metadata": {},
   "outputs": [
    {
     "name": "stdout",
     "output_type": "stream",
     "text": [
      "jose é menor de idade\n"
     ]
    }
   ],
   "source": [
    "while True:\n",
    "    nome = input(\"Digite seu nome (aperte enter para sair)\")\n",
    "\n",
    "    if nome != '':\n",
    "        idade = int(input(\"digite sua idade: \"))\n",
    "\n",
    "        if idade >= 18:\n",
    "            print(f\"{nome} é maior de idade\")\n",
    "        else:\n",
    "            print(f\"{nome} é menor de idade\")\n",
    "\n",
    "        continue\n",
    "    else:\n",
    "        break"
   ]
  },
  {
   "cell_type": "code",
   "execution_count": 13,
   "metadata": {},
   "outputs": [
    {
     "name": "stdout",
     "output_type": "stream",
     "text": [
      "Você está no peso ideal. IMC:  27.358845456721728\n"
     ]
    }
   ],
   "source": [
    "while True:\n",
    "        nome = input(\"Digite seu nome (aperte enter para sair)\")\n",
    "\n",
    "        if nome != '':\n",
    "                peso = input(\"Digite seu PESO para o Calculo do IMC: (peso em KG)\").replace(\",\",\".\")\n",
    "                altura = input(\"Digite a sua altura SEM A VIRGULA (Altura em cm): \").replace(\",\",\".\")\n",
    "                peso = float (peso)\n",
    "                altura = float (altura)\n",
    "                imc =   (peso / (altura * altura))\n",
    "                if imc > 40:\n",
    "                        print(\"Você está com grau de obesidade II. IMC: \", imc) \n",
    "                elif imc > 35:\n",
    "                        print(\"Você está com grau de obesidade I. IMC: \",imc) \n",
    "                elif imc > 30:\n",
    "                        print(\"Você está acima do peso. IMC: \",imc) \n",
    "                elif imc > 25:\n",
    "                        print(\"Você está no peso ideal. IMC: \",imc) \n",
    "                elif imc > 18.5:\n",
    "                        print(\"Você está abaixo do peso. IMC: \",imc) \n",
    "                elif imc > 17:\n",
    "                        print(\"Você está com anorexia. IMC: \",imc) \n",
    "                else:\n",
    "                        print(\"Você está com grau de obesidade mórbida. IMC: \",imc)\n",
    "                continue\n",
    "        else:\n",
    "                break"
   ]
  },
  {
   "cell_type": "markdown",
   "metadata": {},
   "source": [
    "### cinema \n"
   ]
  },
  {
   "cell_type": "code",
   "execution_count": 16,
   "metadata": {},
   "outputs": [
    {
     "name": "stdout",
     "output_type": "stream",
     "text": [
      "SALA 1: John Wick 3 (+16)\n",
      "SALA 2: Divertidamente 2 (L)\n",
      "SALA 3: Um lugar silencioso Dia 1 (+18)\n",
      "SALA 4: Miranha Myles Morales 2 (12)\n",
      "SALA 5: Show Cold Play Music of the Spheres (L)\n",
      "CINEMARK\n",
      "------------------------------ INGRESSO ------------------------------\n",
      "FILME:  Divertidamente 2 (L) \n",
      "SALA:  4\n",
      "NOME:  J\n",
      "ASSENTO: A SUA ESCOLHA\n",
      "------------------------------------------------------------------------------\n"
     ]
    }
   ],
   "source": [
    "import os\n",
    "import time\n",
    "while True:   \n",
    "    os.system(\"cls\")\n",
    "    nome= input(\"Digite seu nome: \")\n",
    "    if nome != \"\":\n",
    "\n",
    "        idade = int(input(\"Digite sua idade: \"))\n",
    "        print(\"SALA 1: John Wick 3 (+16)\")\n",
    "        print(\"SALA 2: Divertidamente 2 (L)\")\n",
    "        print(\"SALA 3: Um lugar silencioso Dia 1 (+18)\")\n",
    "        print(\"SALA 4: Miranha Myles Morales 2 (12)\")\n",
    "        print(\"SALA 5: Show Cold Play Music of the Spheres (L)\")\n",
    "        sala = int(input(\"Digite a sala que deseja assistir: \"))\n",
    "\n",
    "        if sala == 1 and idade >= 18:\n",
    "            print(\"CINEMARK\")\n",
    "            print(30*\"-\",\"INGRESSO\",30*\"-\")\n",
    "            print(\"FILME: Um lugar silencioso Dia 1 (+18) \")\n",
    "            print(\"SALA: \",sala)\n",
    "            print(\"NOME: \",nome)\n",
    "            print(\"ASSENTO: A SUA ESCOLHA\")\n",
    "            print(78*\"-\")\n",
    "            break\n",
    "        elif sala == 2 and idade >= 16:\n",
    "            print(\"CINEMARK\")\n",
    "            print(30*\"-\",\"INGRESSO\",30*\"-\")\n",
    "            print(\"FILME: John Wick 3 (+16) \")\n",
    "            print(\"SALA: \",sala)\n",
    "            print(\"NOME: \",nome)\n",
    "            print(\"ASSENTO: A SUA ESCOLHA\")\n",
    "            print(78*\"-\")\n",
    "            break\n",
    "        elif sala == 3 and idade >= 12:\n",
    "            print(\"CINEMARK\")\n",
    "            print(30*\"-\",\"INGRESSO\",30*\"-\")\n",
    "            print(\"FILME:  Miranha Myles Morales 2 (+12) \")\n",
    "            print(\"SALA: \",sala)\n",
    "            print(\"NOME: \",nome)\n",
    "            print(\"ASSENTO: A SUA ESCOLHA\")\n",
    "            print(78*\"-\")\n",
    "            break \n",
    "        elif sala == 4 and idade > 0:\n",
    "            print(\"CINEMARK\")\n",
    "            print(30*\"-\",\"INGRESSO\",30*\"-\")\n",
    "            print(\"FILME:  Divertidamente 2 (L) \")\n",
    "            print(\"SALA: \",sala)\n",
    "            print(\"NOME: \",nome)\n",
    "            print(\"ASSENTO: A SUA ESCOLHA\")\n",
    "            print(78*\"-\")\n",
    "            break \n",
    "        elif sala == 5 and idade > 0:\n",
    "            print(\"CINEMARK\")\n",
    "            print(30*\"-\",\"INGRESSO\",30*\"-\")\n",
    "            print(\"FILME: Show Cold Play Music of the Spheres (L) \")\n",
    "            print(\"SALA: \",sala)\n",
    "            print(\"NOME: \",nome)\n",
    "            print(\"ASSENTO: A SUA ESCOLHA\")\n",
    "            print(78*\"-\")\n",
    "            break \n",
    "        else:\n",
    "            os.system(\"cls\")\n",
    "            print(\"Sua idade não permite ver esse filme \")\n",
    "            print(\"Escolha outro filme\")\n",
    "            time.sleep(3)\n",
    "        continue\n",
    "    else:\n",
    "        os.system(\"cls\")\n",
    "        print(\"Até mais \")\n",
    "        time.sleep(3)\n",
    "        break\n",
    "        \n",
    "    "
   ]
  }
 ],
 "metadata": {
  "kernelspec": {
   "display_name": ".venv",
   "language": "python",
   "name": "python3"
  },
  "language_info": {
   "codemirror_mode": {
    "name": "ipython",
    "version": 3
   },
   "file_extension": ".py",
   "mimetype": "text/x-python",
   "name": "python",
   "nbconvert_exporter": "python",
   "pygments_lexer": "ipython3",
   "version": "3.12.4"
  }
 },
 "nbformat": 4,
 "nbformat_minor": 2
}
