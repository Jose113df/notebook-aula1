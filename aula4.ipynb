{
 "cells": [
  {
   "cell_type": "markdown",
   "metadata": {},
   "source": [
    "# Aula 4"
   ]
  },
  {
   "cell_type": "markdown",
   "metadata": {},
   "source": []
  },
  {
   "cell_type": "code",
   "execution_count": null,
   "metadata": {},
   "outputs": [],
   "source": [
    "n1 = input(\"Digite o numero \")\n",
    "n2 = input(\"Digite o segundo numero \")\n",
    "\n",
    "# Convettendo as entradas para inteiro\n",
    "n1 = int(n1)\n",
    "n2 = int(n2)\n",
    "\n",
    "divisaoInteira = n1 // n2\n",
    "divisaoNormal = n1 / n2\n",
    "resto = n1 % n2\n",
    "expo = n1**n2\n",
    "print(\"Divisão inteira: \",divisaoInteira)\n",
    "print(\"divisão normal: \",divisaoNormal)\n",
    "print(\"resto: \",resto)\n",
    "print(\"Exponenciação: \",expo)\n"
   ]
  },
  {
   "cell_type": "code",
   "execution_count": null,
   "metadata": {},
   "outputs": [],
   "source": [
    "# Atribuição Subtração\n",
    "valor = 10\n",
    "valor -= 10\n",
    "print(\"resultado de atrubuição de subtração: \",valor)\n",
    "\n",
    "# Atribuição Soma\n",
    "valor += 10\n",
    "print(\"Resultado atribuição soma: \",valor)\n",
    "\n",
    "# Atribuição multiplicação\n",
    "valor *= 10\n",
    "print(\"Reesultado atribuição multiplicação \",valor)\n",
    "\n",
    "# Atribuição Divisão\n",
    "valor /= 10\n",
    "print(\"Resultado atribuição divisão: \",valor)\n",
    "\n",
    "# Atribuição Divisão Inteira\n",
    "valor //=10\n",
    "print (\"Resultado atribuição divisão inteira: \",valor)\n",
    "# Atribuição do Modulo\n",
    "valor %= 10\n",
    "print(\"Resultado de atribuição de modulo \",valor)"
   ]
  },
  {
   "cell_type": "markdown",
   "metadata": {},
   "source": [
    "## Atividade Boletim"
   ]
  },
  {
   "cell_type": "code",
   "execution_count": null,
   "metadata": {},
   "outputs": [],
   "source": [
    "nome = input(\"Digite o nome do aluno: \")\n",
    "\n",
    "notaMat = float(input(\"Digite a PRIMEIRA nota de MATEMATICA\"))\n",
    "notaMat2 = float(input(\"Digite a SEGUNDA nota de MATEMATICA\"))\n",
    "notaMat3 = float(input(\"Digite a TERCEIRA nota de MATEMATICA\"))\n",
    "\n",
    "notaPort = float(input(\"Digite a PRIMEIRA nota de PORTUGUÊS\"))\n",
    "notaPort2 = float(input(\"Digite a SEGUNDA nota de PORTUGUÊS\"))\n",
    "notaPort3 = float(input(\"Digite a TERCEIRA nota de PORTUGUÊS\"))\n",
    "\n",
    "notaGeo = float(input(\"Digite a PRIMEIRA nota de GEOGRAFIA\"))\n",
    "notaGeo2 = float(input(\"Digite a SEGUNDA nota de GEOGRAFIA\"))\n",
    "notaGeo3 = float(input(\"Digite a TERCEIRA nota de GEOGRAFIA\"))\n",
    "\n",
    "notaHist = float(input(\"Digite a PRIMEIRA nota de HISTORIA\"))\n",
    "notaHist2 = float(input(\"Digite a SEGUNDA nota de HISTORIA\"))\n",
    "notaHist3 = float(input(\"Digite a TERCEIRA nota de HISTORIA\"))\n",
    "\n",
    "notaFis = float(input(\"Digite a PRIMEIRA nota de FISÍCA\"))\n",
    "notaFis2 = float(input(\"Digite a SEGUNDA nota de FISÍCA\"))\n",
    "notaFis3 = float(input(\"Digite a TERCEIRA nota de FISÍCA\"))\n",
    "\n",
    "print(\"Nome do aluno: \",nome)\n",
    "print(\"NOTAS \")\n",
    "print(\"Matematica: \",((notaMat+notaMat2+notaMat3)/3))\n",
    "print(\"Português: \",((notaPort+notaPort2+notaPort3)/3))\n",
    "print(\"Geagrafia: \",((notaGeo+notaGeo2+notaGeo3)/3))\n",
    "print(\"Historia: \",((notaHist+notaHist2+notaHist3)/3))\n",
    "print(\"Fisíca: \",((notaFis+notaFis2+notaFis3)/3))\n",
    "\n"
   ]
  },
  {
   "cell_type": "markdown",
   "metadata": {},
   "source": [
    "## Correção"
   ]
  },
  {
   "cell_type": "code",
   "execution_count": 13,
   "metadata": {},
   "outputs": [
    {
     "name": "stdout",
     "output_type": "stream",
     "text": [
      "------------------------------ Boletim Escolar ------------------------------\n",
      "Nome do aluno:  jose\n",
      "NOTAS \n",
      "Matematica:  10.0\n",
      "Português:  10.0\n",
      "Geagrafia:  10.0\n",
      "Historia:  10.0\n",
      "Fisíca:  10.0\n",
      "Media: 10.00\n",
      "------------------------------------------------------------\n"
     ]
    }
   ],
   "source": [
    "nome = input(\"Digite o nome do aluno \")\n",
    "notaMat = input(\"Digite a nota de MATEMATICA \")\n",
    "notaPort = input(\"Digite a nota de PORTUGUÊS \")\n",
    "notaGeo = input(\"Digite a nota de GEAGRAFIA \")\n",
    "notaHist = input(\"Digite a nota de HISTORIA \")\n",
    "notaFis = input(\"Digite a nota de FISÍCA \")\n",
    "\n",
    "notaMat = float(notaMat)\n",
    "notaPort = float(notaPort)\n",
    "notaGeo = float(notaGeo)\n",
    "notaHist = float(notaHist)\n",
    "notaFis = float(notaFis)\n",
    "\n",
    "media = (notaMat+notaPort+notaGeo+notaHist+notaFis)/5\n",
    "\n",
    "print(30*\"-\", \"Boletim Escolar\", 30*\"-\")\n",
    "print(\"Nome do aluno: \",nome)\n",
    "print(\"NOTAS \")\n",
    "print(\"Matematica: \",notaMat)\n",
    "print(\"Português: \",notaPort)\n",
    "print(\"Geagrafia: \",notaGeo)\n",
    "print(\"Historia: \",notaHist)\n",
    "print(\"Fisíca: \",notaFis)\n",
    "print(f\"Media: {media:.2f}\")\n",
    "print(60*\"-\")"
   ]
  }
 ],
 "metadata": {
  "kernelspec": {
   "display_name": ".venv",
   "language": "python",
   "name": "python3"
  },
  "language_info": {
   "codemirror_mode": {
    "name": "ipython",
    "version": 3
   },
   "file_extension": ".py",
   "mimetype": "text/x-python",
   "name": "python",
   "nbconvert_exporter": "python",
   "pygments_lexer": "ipython3",
   "version": "3.12.4"
  }
 },
 "nbformat": 4,
 "nbformat_minor": 2
}
