{
 "cells": [
  {
   "cell_type": "markdown",
   "metadata": {},
   "source": [
    "Git \n",
    "\n",
    "git init: iniciar um novo repositorio \n",
    "\n",
    "git status: verificar o estado de atualização do repositorio \n",
    "\n",
    "git add: adiciona as atualizaçoes para ser feito o commit \n",
    "\n",
    "git commit -m: commita as informaçoes (salva uma versão do repositorio)"
   ]
  },
  {
   "cell_type": "markdown",
   "metadata": {},
   "source": [
    "#### Operadores \n",
    "\n",
    "- Soma \n",
    "- Subtração\n",
    "- Divisão\n",
    "- multiplicação"
   ]
  },
  {
   "cell_type": "code",
   "execution_count": 21,
   "metadata": {},
   "outputs": [
    {
     "name": "stdout",
     "output_type": "stream",
     "text": [
      "20\n",
      "0\n",
      "100\n",
      "1.0\n"
     ]
    }
   ],
   "source": [
    "'''\n",
    "#soma = 10+10 \n",
    "#print(soma)\n",
    "#print(10+10)\n",
    "'''\n",
    "\n",
    "n1= 10\n",
    "n2= 10\n",
    "\n",
    "#Soma\n",
    "soma=n1+n2\n",
    "print(soma)\n",
    "\n",
    "#Subtração\n",
    "subtração = n1 - n2\n",
    "\n",
    "print(subtração)\n",
    "\n",
    "#Multiplaicação\n",
    "multiplicação = n1 * n2 \n",
    "\n",
    "print(multiplicação)\n",
    "\n",
    "#Divisão\n",
    "divisao = n1 / n2\n",
    "print(divisao)\n",
    "\n"
   ]
  },
  {
   "cell_type": "markdown",
   "metadata": {},
   "source": [
    "Declare 2 variaveis, cada uma com um valor, e some os resultados concatenados a um texto \n",
    "\n",
    "crie um sistema onde o usuario irá inserir dois valores, guarde cada valor em variaveis, em seguida voces irão realizar as 4 operações basicas de matematica (somar, subtrair, multiplicar e dividir ) e mostrar esses resultados na tela tambem concatenandos a um texto indicativo de cada operação.\n",
    "\n",
    "crie um sistema que receba o nome do usuario, a idade so podendo aceitar numero inteiro em seguida mostre o nome e idade do usuario e peça que ele digite 2 numeros para que sejam somados. Mostrar por ultuimo a soma realizada para o usuario  "
   ]
  },
  {
   "cell_type": "code",
   "execution_count": 25,
   "metadata": {},
   "outputs": [
    {
     "name": "stdout",
     "output_type": "stream",
     "text": [
      "A soma dos numeros são: 30\n"
     ]
    }
   ],
   "source": [
    "#EX1\n",
    "n1 = 10\n",
    "n2 = 20\n",
    "print(f\"A soma dos numeros são: {n1+n2}\")"
   ]
  },
  {
   "cell_type": "code",
   "execution_count": null,
   "metadata": {},
   "outputs": [],
   "source": [
    "#EX2\n",
    "\n",
    "num1 = int(input(\"Digite o primeiro numero \"))\n",
    "num2 = int(input(\"Digite o segundo numero \"))\n",
    "\n",
    "print(f\"O valor dos numeros em SOMA: {num1+num2}\")\n",
    "print(f\"O valor dos numeros em SUBTRAÇÃO: {num1-num2}\")\n",
    "print(f\"O valor dos numeros em MULTIPLICAÇÃO: {num1*num2}\")\n",
    "print(f\"O valor dos numeros em DIVISÃO: {num1/num2}\")"
   ]
  },
  {
   "cell_type": "code",
   "execution_count": null,
   "metadata": {},
   "outputs": [],
   "source": [
    "#EX3\n",
    "nome = input(\"Digite seu nome: \") \n",
    "idade = int(input(\"Digite sua idade: \")) \n",
    "\n",
    "print(f\"Nome: {nome}\")\n",
    "print(f\"Idade: {idade}\")\n",
    "\n",
    "num1 = int(input(\"Digite o primeiro numero \"))\n",
    "num2 = int(input(\"Digite o segundo numero \"))\n",
    "\n",
    "soma = num1 + num2\n",
    "print(f\"A soma do valor é {soma}\") \n"
   ]
  },
  {
   "cell_type": "code",
   "execution_count": null,
   "metadata": {},
   "outputs": [],
   "source": [
    "#EX4\n",
    "nota1 = float(input(\"Digite a primeira nota: \"))\n",
    "nota2 = float(input(\"Digite a Segunda nota: \"))\n",
    "nota3 = float(input(\"Digite a Terceira nota: \"))\n",
    "\n",
    "media =((nota1 + nota2 + nota3)/3)\n",
    "\n",
    "print(f\"A media do Aluno(a) é: {media}\")\n",
    "print(f\"A media do Aluno(a) é: {media}\")"
   ]
  }
 ],
 "metadata": {
  "kernelspec": {
   "display_name": ".venv",
   "language": "python",
   "name": "python3"
  },
  "language_info": {
   "codemirror_mode": {
    "name": "ipython",
    "version": 3
   },
   "file_extension": ".py",
   "mimetype": "text/x-python",
   "name": "python",
   "nbconvert_exporter": "python",
   "pygments_lexer": "ipython3",
   "version": "3.12.4"
  }
 },
 "nbformat": 4,
 "nbformat_minor": 2
}
