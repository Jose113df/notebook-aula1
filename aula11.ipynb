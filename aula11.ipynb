{
 "cells": [
  {
   "cell_type": "markdown",
   "metadata": {},
   "source": [
    "# Aula 11"
   ]
  },
  {
   "cell_type": "code",
   "execution_count": 2,
   "metadata": {},
   "outputs": [
    {
     "name": "stdout",
     "output_type": "stream",
     "text": [
      "------------------------------ Bem vindo ao sistema de cadastro ------------------------------\n",
      "Digite '1' para cadastrar um novo usuário\n",
      "Digite '2' para acessar o sistema\n",
      "Digite '3' listar os usuários\n",
      "Digite '4' Excluir os usuários\n",
      "Digite '5' para sair\n",
      "Saindo do sistema!\n"
     ]
    }
   ],
   "source": [
    "import time\n",
    "lista_cpf = [\"111.222.333-24\",\"222.333.444-55\",\"333.444.555-66\",\"444.555.666-77\"]\n",
    "lista_nome = [\"Jose\", \"Luiz\"]\n",
    "\n",
    "while True:\n",
    "\n",
    "    opcao = input(\"Digite a sua opção: \")\n",
    "    print(30*\"-\", \"Bem vindo ao sistema de cadastro\",30*\"-\")\n",
    "    print(\"Digite '1' para cadastrar um novo usuário\")\n",
    "    print(\"Digite '2' para acessar o sistema\")\n",
    "    print(\"Digite '3' listar os usuários\")\n",
    "    print(\"Digite '4' Excluir os usuários\")\n",
    "    print(\"Digite '5' para sair\")\n",
    "    opcao = int(opcao)\n",
    "\n",
    "    if opcao == 1: \n",
    "        novo_nome = input(\"Digite um novo nome que deseja cadastrar: \")\n",
    "        novo_cpf = input(\"Digite um novo cpf: \")\n",
    "\n",
    "        if novo_cpf in lista_cpf:\n",
    "            print(\"cpf já registrado\")\n",
    "        else:\n",
    "            lista_cpf.append(novo_cpf)\n",
    "            lista_nome.append(novo_nome)\n",
    "            print(\"Cpf cadastrado com sucesso!!\")\n",
    "\n",
    "    elif opcao ==2:\n",
    "        cpf = input(\"Digite o seu cpf: \")\n",
    "\n",
    "        if cpf in lista_cpf:\n",
    "            print(\"Logado com sucesso!\")\n",
    "        else:\n",
    "            print(\"Cpf não cadastrado!\")\n",
    "    \n",
    "    elif opcao ==3:\n",
    "        print(\"Lista de Usuários\")\n",
    "        for i in lista_nome:\n",
    "            print(i)\n",
    "    \n",
    "    elif opcao ==4:\n",
    "        excluir_nome = input(\"Digite o nome de usuario que você deseja excluir: \")\n",
    "        excluir_cpf = input(\"Digite o cpfque você deseja excluir: \")\n",
    "\n",
    "        if excluir_nome in lista_nome:\n",
    "            lista_nome.pop(excluir_nome)\n",
    "        \n",
    "        if excluir_cpf in lista_cpf:\n",
    "            lista_cpf.remove(excluir_cpf)\n",
    "            print(\"Cpf excluido com sucesso!\")\n",
    "            time.sleep(3)\n",
    "        else:\n",
    "            print(\"Cpf não encontrado\")\n",
    "\n",
    "    elif opcao == 5:\n",
    "        print(\"Saindo do sistema!\")\n",
    "        time.sleep(3)\n",
    "\n",
    "        break\n",
    "\n",
    "    else:\n",
    "        print(\"Opcão invalida\")\n",
    "        time.sleep(3)\n"
   ]
  },
  {
   "cell_type": "code",
   "execution_count": null,
   "metadata": {},
   "outputs": [],
   "source": []
  }
 ],
 "metadata": {
  "kernelspec": {
   "display_name": ".venv",
   "language": "python",
   "name": "python3"
  },
  "language_info": {
   "codemirror_mode": {
    "name": "ipython",
    "version": 3
   },
   "file_extension": ".py",
   "mimetype": "text/x-python",
   "name": "python",
   "nbconvert_exporter": "python",
   "pygments_lexer": "ipython3",
   "version": "3.12.4"
  }
 },
 "nbformat": 4,
 "nbformat_minor": 2
}
