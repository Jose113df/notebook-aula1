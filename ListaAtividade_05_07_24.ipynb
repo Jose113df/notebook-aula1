{
 "cells": [
  {
   "cell_type": "markdown",
   "metadata": {},
   "source": [
    "## Operador ternário\n",
    "- Usar operador ternário quando as alternativas forem pequenas, e quando tiver apenas 2 ou no máximo 3 alternativas.\n",
    "- No exemplo a variável precisa ser inteira"
   ]
  },
  {
   "cell_type": "code",
   "execution_count": 10,
   "metadata": {},
   "outputs": [
    {
     "name": "stdout",
     "output_type": "stream",
     "text": [
      "karython é maior de idade.\n"
     ]
    }
   ],
   "source": [
    "nome = 'karython'\n",
    "idade = 18\n",
    "\n",
    "print(nome, 'é maior de idade.' if idade >= 18 else 'é menor de idade')"
   ]
  },
  {
   "cell_type": "markdown",
   "metadata": {},
   "source": [
    "## Replace\n",
    "- substituir"
   ]
  },
  {
   "cell_type": "code",
   "execution_count": 11,
   "metadata": {},
   "outputs": [
    {
     "name": "stdout",
     "output_type": "stream",
     "text": [
      "<class 'str'>\n",
      "<class 'float'>\n"
     ]
    }
   ],
   "source": [
    "peso = input(\"Digite seu peso: \").replace(',','.')\n",
    "print(type(peso))\n",
    "peso = float(peso)\n",
    "print(type(peso))\n"
   ]
  },
  {
   "cell_type": "markdown",
   "metadata": {},
   "source": [
    "## Desafio 01\n",
    "- Crie um programa para fazer a verificação de um cliente para saber se ele pode usar o brinquedo ou não.\n",
    "    - Para brincar ele precisa:\n",
    "        - ter mais que 12 anos\n",
    "        - ter altura minima de 1,20 mts"
   ]
  },
  {
   "cell_type": "code",
   "execution_count": 8,
   "metadata": {},
   "outputs": [
    {
     "name": "stdout",
     "output_type": "stream",
     "text": [
      "Jose VOCÊ ESTÁ AUTORIZADO A IR NO BRINQUEDO\n"
     ]
    }
   ],
   "source": [
    "nome = input(\"Digite seu nome: \")\n",
    "idade = input(\"Digite a sua idade: \")\n",
    "altura = input(\"Digite a sua altura: \")\n",
    "idade = int(idade)\n",
    "altura = float(altura)\n",
    "if idade > 12 and altura > 1.20:\n",
    "    print(f\"{nome} VOCÊ ESTÁ AUTORIZADO A IR NO BRINQUEDO\")\n",
    "else:\n",
    "    print(f\"{nome} VOCÊ NÃO ESTÁ AUTORIZADO\")\n",
    "    "
   ]
  },
  {
   "cell_type": "markdown",
   "metadata": {},
   "source": [
    "## Desafio 02\n",
    "- Crie um programa que verifica se o aluno poderar ir a praia.\n",
    "    - Para ir a praia ele precisa:\n",
    "        - Verifica se acordei de bom humor\n",
    "        - Verifica se o pai ja chegou em casa para leva-lo"
   ]
  },
  {
   "cell_type": "code",
   "execution_count": 29,
   "metadata": {},
   "outputs": [
    {
     "name": "stdout",
     "output_type": "stream",
     "text": [
      "NÂO vamos a praia :(\n"
     ]
    }
   ],
   "source": [
    "humor = input(\"Qual o seu humor de hoje?? (BOM) para bom humor (RUIM) para humor ruim\").upper()\n",
    "pai = input (\"Seu pai está em casa? (sim) ou (não)\").upper()\n",
    "cont = 0\n",
    "cont2 = 0\n",
    "if humor == \"BOM\":\n",
    "    cont = cont + 1\n",
    "    if pai == \"SIM\":\n",
    "        cont2 = cont2 + 1\n",
    "\n",
    "if cont == 1 and cont2 == 1:\n",
    "    print(\"VAMOS A PRAIA :D\")\n",
    "else:\n",
    "    print(\"NÂO vamos a praia :(\")"
   ]
  },
  {
   "cell_type": "markdown",
   "metadata": {},
   "source": [
    "## Desafio 03\n",
    "- Crie um programa que calcule o indice de massa corporal de um usuário\n",
    "    - pegue os valores de altura e peso\n",
    "        - use a conversão de valores\n",
    "        - use replace\n",
    "        - imprima se ele esta acima do peso ou nao"
   ]
  },
  {
   "cell_type": "code",
   "execution_count": null,
   "metadata": {},
   "outputs": [],
   "source": [
    "peso = input(\"Digite seu PESO para o Calculo do IMC: (peso em KG)\").replace(\",\",\".\")\n",
    "altura = input(\"Digite a sua altura SEM A VIRGULA (Altura em cm): \").replace(\",\",\".\")\n",
    "peso = float (peso)\n",
    "altura = float (altura)\n",
    "imc =   (peso / (altura * altura))\n",
    "if imc > 30:\n",
    "    print(\"Você está acima do peso\")\n",
    "else:\n",
    "    print(\"Você não está a cima do peso\")"
   ]
  },
  {
   "cell_type": "markdown",
   "metadata": {},
   "source": [
    "## Desafio 04\n",
    "- Crie uma calculadora de IMC\n",
    "    - Imprima as seguintes condições:?\n",
    "        - imc <17: está com anorexia.\n",
    "        - imc <18.5: está abaixo do peso\n",
    "        - imc <25: está no peso ideal.\n",
    "        - imc <30: está acima do peso.\n",
    "        - imc <35: está com grau de obesidade I.\n",
    "        - imc <40: está com grau de obesidade II.\n",
    "        - imc: está com grau de obesidade mórbida."
   ]
  },
  {
   "cell_type": "code",
   "execution_count": 24,
   "metadata": {},
   "outputs": [
    {
     "name": "stdout",
     "output_type": "stream",
     "text": [
      "Você está no peso ideal. IMC:  27.358845456721728\n"
     ]
    }
   ],
   "source": [
    "peso = input(\"Digite seu PESO para o Calculo do IMC: (peso em KG)\").replace(\",\",\".\")\n",
    "altura = input(\"Digite a sua altura SEM A VIRGULA (Altura em cm): \").replace(\",\",\".\")\n",
    "peso = float (peso)\n",
    "altura = float (altura)\n",
    "imc =   (peso / (altura * altura))\n",
    "if imc > 40:\n",
    "        print(\"Você está com grau de obesidade II. IMC: \", imc) \n",
    "elif imc > 35:\n",
    "        print(\"Você está com grau de obesidade I. IMC: \",imc) \n",
    "elif imc > 30:\n",
    "        print(\"Você está acima do peso. IMC: \",imc) \n",
    "elif imc > 25:\n",
    "        print(\"Você está no peso ideal. IMC: \",imc) \n",
    "elif imc > 18.5:\n",
    "        print(\"Você está abaixo do peso. IMC: \",imc) \n",
    "elif imc > 17:\n",
    "        print(\"Você está com anorexia. IMC: \",imc) \n",
    "else:\n",
    "        print(\"Você está com grau de obesidade mórbida. IMC: \",imc)"
   ]
  },
  {
   "cell_type": "markdown",
   "metadata": {},
   "source": [
    "## Desafio 05\n",
    "- Crie uma calculadora basica.\n",
    "    - Solicite 2 números do usuário e pergunte qual operação matemática ele deseja fazer.\n",
    "        -   +; -; /; *\n",
    "        - imprima o resultado correto para cada operação"
   ]
  },
  {
   "cell_type": "code",
   "execution_count": 30,
   "metadata": {},
   "outputs": [
    {
     "name": "stdout",
     "output_type": "stream",
     "text": [
      "Resultado do calculo:  20.0\n"
     ]
    }
   ],
   "source": [
    "calculadora = input(\"Digite a operação que deseja realizar\")\n",
    "\n",
    "if (calculadora ==\"+\"):\n",
    "    n1 = float(input(\"Digite o primeiro numero\"))\n",
    "    n2 = float(input(\"Digite o segundo numero\"))\n",
    "    soma= n1 + n2\n",
    "    print(\"Resultado do calculo: \",soma)\n",
    "\n",
    "if (calculadora == \"-\"):\n",
    "    n1 = float(input(\"Digite o primeiro numero\"))\n",
    "    n2 = float(input(\"Digite o segundo numero\"))\n",
    "    sub= n1 - n2\n",
    "    print(\"Resultado do calculo: \",sub)\n",
    "\n",
    "if (calculadora == \"*\"):\n",
    "    n1 = float(input(\"Digite o primeiro numero\"))\n",
    "    n2 = float(input(\"Digite o segundo numero\"))\n",
    "    multi= n1 * n2\n",
    "    print(\"Resultado do calculo: \",multi)\n",
    "\n",
    "if (calculadora == \"/\"):\n",
    "    n1 = float(input(\"Digite o primeiro numero\"))\n",
    "    n2 = float(input(\"Digite o segundo numero\"))\n",
    "    div= n1 / n2\n",
    "    print(\"Resultado do calculo: \",div)"
   ]
  }
 ],
 "metadata": {
  "kernelspec": {
   "display_name": "Python 3",
   "language": "python",
   "name": "python3"
  },
  "language_info": {
   "codemirror_mode": {
    "name": "ipython",
    "version": 3
   },
   "file_extension": ".py",
   "mimetype": "text/x-python",
   "name": "python",
   "nbconvert_exporter": "python",
   "pygments_lexer": "ipython3",
   "version": "3.12.4"
  }
 },
 "nbformat": 4,
 "nbformat_minor": 2
}
