{
 "cells": [
  {
   "cell_type": "markdown",
   "metadata": {},
   "source": [
    "## Python Essencial"
   ]
  },
  {
   "cell_type": "markdown",
   "metadata": {},
   "source": [
    "- Algoritmo\n",
    "- Comentarios \n",
    "- Variavel \n",
    "- Estrutura de Seleção\n",
    "- Git\n",
    "- GitHub\n",
    "- Compartilhar Notebooks"
   ]
  },
  {
   "cell_type": "markdown",
   "metadata": {},
   "source": [
    "### Algoritomo para fritar um Ovo\n",
    "##### Passo a Passo \n",
    "\n",
    "passo 1. pegar o ovo na geladeira. \n",
    "passo 2. pegar a frigideira. \n",
    "passo 2.5 colocar a frigideira no fogo \n",
    "passo 3. ligar o fogo. \n",
    "passo 4. pegar a manteiga.\n",
    "passo 5. colocar a manteiga na frigideira.\n",
    "passo 6. quebrar o ovo \n",
    "passo 7. colocar o sal\n",
    "passo 8. mecher o ovo\n",
    "passo 9. colocar no prato\n",
    "passo 10. comer o ovo"
   ]
  },
  {
   "cell_type": "code",
   "execution_count": null,
   "metadata": {},
   "outputs": [],
   "source": [
    "print(\"hello world\")"
   ]
  }
 ],
 "metadata": {
  "language_info": {
   "name": "python"
  }
 },
 "nbformat": 4,
 "nbformat_minor": 2
}
