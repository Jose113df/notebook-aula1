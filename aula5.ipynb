{
 "cells": [
  {
   "cell_type": "markdown",
   "metadata": {},
   "source": [
    "# Aula 5\n"
   ]
  },
  {
   "cell_type": "markdown",
   "metadata": {},
   "source": [
    "------------------------------------------------\n",
    "#### Vincular ao seu git hub\n",
    "git config --global user.name\n",
    "git config --global user.email\n",
    "\n",
    "#### Verificar estado \n",
    "git status\n",
    "\n",
    "#### Adicionar arquivo ao repositorio \n",
    "git add .\n",
    "\n",
    "#### Fazer o commit \n",
    "\n",
    "git commit -m \"Aqui você adiciona a mensagem\"\n",
    "\n",
    "#### empurrar para o repositorio na nuvem\n",
    "\n",
    "git push origin master \n",
    "#### ou\n",
    "git push origin main \n",
    "#### Depende da sua BRANCH\n",
    "\n",
    "#### Para ver se o repositorio está conectado\n",
    "git remote -v \n",
    "git remote\n"
   ]
  },
  {
   "cell_type": "markdown",
   "metadata": {},
   "source": [
    "## Estrutura de Decisão\n",
    "------------------------------"
   ]
  },
  {
   "cell_type": "code",
   "execution_count": null,
   "metadata": {},
   "outputs": [],
   "source": [
    "programador = True\n",
    "\n",
    "if programador:\n",
    "    print(\" IF é verdadeiro\")\n",
    "    \n",
    "else:\n",
    "    print(\"IF é falso\")"
   ]
  },
  {
   "cell_type": "markdown",
   "metadata": {},
   "source": [
    "### If de idade e altura"
   ]
  },
  {
   "cell_type": "code",
   "execution_count": 12,
   "metadata": {},
   "outputs": [
    {
     "name": "stdout",
     "output_type": "stream",
     "text": [
      "NÃO AUTORIZADO\n"
     ]
    }
   ],
   "source": [
    "idade = int(input(\"Digite a sua idade \"))\n",
    "altura = float(input(\"Digite a sua idade \"))\n",
    "#and\n",
    "#or\n",
    "if idade>=18 and altura >= 1.60:\n",
    "    print(\"AUTORIZADO\")\n",
    "else:\n",
    "    print(\"NÃO AUTORIZADO\")\n",
    "\n"
   ]
  },
  {
   "cell_type": "markdown",
   "metadata": {},
   "source": [
    "## Calculadora"
   ]
  },
  {
   "cell_type": "code",
   "execution_count": null,
   "metadata": {},
   "outputs": [],
   "source": [
    "calculadora = input(\"Digite a operação que deseja realizar\")\n",
    "\n",
    "if (calculadora ==\"soma\"):\n",
    "    n1 = float(input(\"Digite o primeiro numero\"))\n",
    "    n2 = float(input(\"Digite o segundo numero\"))\n",
    "    soma= n1 + n2\n",
    "    print(\"Resultado do calculo: \",soma)\n",
    "\n",
    "if (calculadora == \"subtração\"):\n",
    "    n1 = float(input(\"Digite o primeiro numero\"))\n",
    "    n2 = float(input(\"Digite o segundo numero\"))\n",
    "    sub= n1 - n2\n",
    "    print(\"Resultado do calculo: \",sub)\n",
    "\n",
    "if (calculadora == \"multiplicação\"):\n",
    "    n1 = float(input(\"Digite o primeiro numero\"))\n",
    "    n2 = float(input(\"Digite o segundo numero\"))\n",
    "    multi= n1 * n2\n",
    "    print(\"Resultado do calculo: \",multi)\n",
    "\n",
    "if (calculadora == \"divisão\"):\n",
    "    n1 = float(input(\"Digite o primeiro numero\"))\n",
    "    n2 = float(input(\"Digite o segundo numero\"))\n",
    "    div= n1 / n2\n",
    "    print(\"Resultado do calculo: \",div)"
   ]
  },
  {
   "cell_type": "markdown",
   "metadata": {},
   "source": [
    "## Desafio par ou impar"
   ]
  },
  {
   "cell_type": "code",
   "execution_count": 33,
   "metadata": {},
   "outputs": [
    {
     "name": "stdout",
     "output_type": "stream",
     "text": [
      "O numero é PAR\n"
     ]
    }
   ],
   "source": [
    "num = int(input(\"Digite o numero para saber se é par ou impar\"))\n",
    "# verificar o resto da divisão é igual a 0\n",
    "resto = num % 2\n",
    "if resto == 0:\n",
    "    print(\"O numero é PAR\")\n",
    "else:\n",
    "    print(\"o numero é IMPAR\")\n"
   ]
  },
  {
   "cell_type": "markdown",
   "metadata": {},
   "source": [
    "## Desafio 2"
   ]
  },
  {
   "cell_type": "code",
   "execution_count": 32,
   "metadata": {},
   "outputs": [
    {
     "name": "stdout",
     "output_type": "stream",
     "text": [
      "O PESO NÃO ESTA NO LIMITE\n"
     ]
    }
   ],
   "source": [
    "peso1 = input(\"Digete o peso da pessoa\")\n",
    "peso2 = input(\"Digete o peso da carga\")\n",
    "peso1 = int(peso1)\n",
    "peso2 = int(peso2)\n",
    "pesoTotal = peso1+peso2\n",
    "if pesoTotal > 200:\n",
    "    print(\"O PESO ESTÁ NO LIMITE\") \n",
    "else:\n",
    "    print(\"O PESO NÃO ESTA NO LIMITE\")\n"
   ]
  },
  {
   "cell_type": "markdown",
   "metadata": {},
   "source": [
    "### possibilidade de colocar 3 condições"
   ]
  },
  {
   "cell_type": "code",
   "execution_count": 37,
   "metadata": {},
   "outputs": [
    {
     "name": "stdout",
     "output_type": "stream",
     "text": [
      "está reprovado\n"
     ]
    }
   ],
   "source": [
    "nome= \"jose\"\n",
    "nota = int(input(\"Digite a nota\"))\n",
    "\n",
    "if nota >=7:\n",
    "    print(\"aprovado\")\n",
    "elif nota >= 5:\n",
    "    print(\"Aluno esta na recuperação, NOTA: \",nota)\n",
    "else: \n",
    "    print(\"está reprovado\")"
   ]
  },
  {
   "cell_type": "markdown",
   "metadata": {},
   "source": [
    "### Atividade \n",
    "## Desafio 3\n",
    "- Crie um sistema para coletar os dados do aluno, (nome, idade, cpf), em seguida solicite as notas dos 4 bimestres da diciplina de Python que o aluno teve para verificar a MEDIA.\n",
    "    - Media para aprovação >= 7\n",
    "    - Media para recuperação >= 5\n",
    "    - Media para reprovação = <5\n",
    "- Para retirar o boletim de notas, o aluno precisa ser maior de idade(18) e caso não seja, somente os pais podem retirar o boletim.\n",
    "    - Imprima as informações do aluno\n",
    "    - Imprima as notas do aluno em cada bimestre\n",
    "    - Imprima a situação do aluno (aprovado, reprovado, recuperação)\n",
    "    - Imprima se o boletim sera retirado pelos pais ou pelo proprio aluno"
   ]
  },
  {
   "cell_type": "code",
   "execution_count": 62,
   "metadata": {},
   "outputs": [
    {
     "name": "stdout",
     "output_type": "stream",
     "text": [
      "NOME DO ALUNO:  jose\n",
      "IDADE:  18\n",
      "CPF:  2\n",
      "------------------------------ BOLETIM ESCOLAR ------------------------------\n",
      "RECUPERAÇÃO\n",
      "NOTA PRIMEIRO BIMESTRE 5.0\n",
      "NOTA SEGUNDO BIMESTRE 5.0\n",
      "NOTA TERCEIRO BIMESTRE 5.0\n",
      "NOTA QUARTO BIMESTRE 5.0\n",
      "MEDIA:  5.0\n",
      "-----------------------------------------------------------------------------\n"
     ]
    }
   ],
   "source": [
    "nome  = input(\"Digite o nome do aluno \")\n",
    "idade  = input(\"Digite o idade do aluno \")\n",
    "cpf  = input(\"Digite o cpf do aluno \")\n",
    "idade = int(idade)\n",
    "\n",
    "nota1 = float(input(\"Digite a nota do primeiro bimestre aluno\"))\n",
    "nota2 = float(input(\"Digite a nota do segundo bimestre aluno\"))\n",
    "nota3 = float(input(\"Digite a nota do terceiro bimestre aluno\"))\n",
    "nota4 = float(input(\"Digite a nota do quarto bimestre aluno\"))\n",
    "media = ((nota1+nota2+nota3+nota4) /4)\n",
    "\n",
    "print(\"NOME DO ALUNO: \",nome)\n",
    "print(\"IDADE: \",idade)\n",
    "print(\"CPF: \",cpf)\n",
    "if idade < 18:\n",
    "    print(\"SOMENTE OS PAIS PODEM PEGAR O BOLETIM\")\n",
    "elif media >=7:\n",
    "    print(30*\"-\",\"BOLETIM ESCOLAR\",30*\"-\")\n",
    "    print(\"APROVADO\")\n",
    "    print(\"NOTA PRIMEIRO BIMESTRE\",nota1)\n",
    "    print(\"NOTA SEGUNDO BIMESTRE\",nota2)\n",
    "    print(\"NOTA TERCEIRO BIMESTRE\",nota3)\n",
    "    print(\"NOTA QUARTO BIMESTRE\",nota4)\n",
    "    print(\"MEDIA: \",media)\n",
    "elif media >=5:\n",
    "    print(30*\"-\",\"BOLETIM ESCOLAR\",30*\"-\")\n",
    "    print(\"RECUPERAÇÃO\")\n",
    "    print(\"NOTA PRIMEIRO BIMESTRE\",nota1)\n",
    "    print(\"NOTA SEGUNDO BIMESTRE\",nota2)\n",
    "    print(\"NOTA TERCEIRO BIMESTRE\",nota3)\n",
    "    print(\"NOTA QUARTO BIMESTRE\",nota4)\n",
    "    print(\"MEDIA: \",media)\n",
    "elif media <= 5:\n",
    "    print(30*\"-\",\"BOLETIM ESCOLAR\",30*\"-\")\n",
    "    print(\"REPROVADO\")\n",
    "    print(\"NOTA PRIMEIRO BIMESTRE\",nota1)\n",
    "    print(\"NOTA SEGUNDO BIMESTRE\",nota2)\n",
    "    print(\"NOTA TERCEIRO BIMESTRE\",nota3)\n",
    "    print(\"NOTA QUARTO BIMESTRE\",nota4)\n",
    "    print(\"MEDIA: \",media)\n",
    "print(77*\"-\")"
   ]
  }
 ],
 "metadata": {
  "kernelspec": {
   "display_name": ".venv",
   "language": "python",
   "name": "python3"
  },
  "language_info": {
   "codemirror_mode": {
    "name": "ipython",
    "version": 3
   },
   "file_extension": ".py",
   "mimetype": "text/x-python",
   "name": "python",
   "nbconvert_exporter": "python",
   "pygments_lexer": "ipython3",
   "version": "3.12.4"
  }
 },
 "nbformat": 4,
 "nbformat_minor": 2
}
