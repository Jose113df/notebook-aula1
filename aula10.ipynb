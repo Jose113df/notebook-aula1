{
 "cells": [
  {
   "cell_type": "markdown",
   "metadata": {},
   "source": [
    "# Aula 10\n",
    "---"
   ]
  },
  {
   "cell_type": "markdown",
   "metadata": {},
   "source": [
    "### Lista\n",
    "\n",
    "- Declarando lista\n",
    "- manipulação de lista \n",
    "    - Adicionando um novo elemento na lista \n",
    "    - adicionando elemento em uma posição na lista\n",
    "    - removendo um elemento em uma posição na lista \n",
    "    - Mostrando segundo, terceiro e quarto elemento da lista\n",
    "    - Mostrando o ultimo elemento \n",
    "    - Ordenando lista n\n",
    "    - Pesquisando dados em uma lista  (in, index, count)\n",
    "    - Copiando uma lista\n"
   ]
  },
  {
   "cell_type": "code",
   "execution_count": 6,
   "metadata": {},
   "outputs": [
    {
     "name": "stdout",
     "output_type": "stream",
     "text": [
      "O primeiro nome é gomes\n",
      "joao\n",
      "['gomes', 'oliveira', 'jose', 'pedro', 'maria', 'joao']\n",
      "['gomes', 'oliveira', 'jose', 'pedro', 'maria']\n",
      "['gomes', 'oliveira', 'maria']\n",
      "['gomes', 'oliveira', 'maria', 'josue']\n"
     ]
    }
   ],
   "source": [
    "nome = [\"gomes\", \"oliveira\", \"lucas\", \"jose\", \"pedro\", \"maria\", \"joao\"]\n",
    "\n",
    "# \n",
    "print (f\"O primeiro nome é {nome[0]}\")\n",
    "\n",
    "# Retornando o ultimo elemento \n",
    "print(nome[-1])\n",
    "\n",
    "# Remove um nome da lista \n",
    "nome.remove(\"lucas\")\n",
    "\n",
    "print(nome)\n",
    "\n",
    "# Removendo item da lista com pop\n",
    "\n",
    "nome.pop(5)\n",
    "\n",
    "print(nome)\n",
    "\n",
    "# Removendo item usando Del\n",
    "del nome [2:4]\n",
    "print(nome)\n",
    "\n",
    "#adiciona um novo item a lista\n",
    "nome.append(\"josue\")\n",
    "print (nome)"
   ]
  },
  {
   "cell_type": "code",
   "execution_count": 15,
   "metadata": {},
   "outputs": [
    {
     "name": "stdout",
     "output_type": "stream",
     "text": [
      "1 nome da lista: gomes\n",
      "2 nome da lista: oliveira\n",
      "3 nome da lista: lucas\n",
      "4 nome da lista: jose\n",
      "5 nome da lista: pedro\n",
      "6 nome da lista: maria\n",
      "7 nome da lista: joao\n",
      "Posição invalida\n",
      "------------------------------ Lista atualizada ------------------------------\n",
      "1 nome da lista: gomes\n",
      "2 nome da lista: oliveira\n",
      "3 nome da lista: lucas\n",
      "4 nome da lista: jose\n",
      "5 nome da lista: pedro\n",
      "6 nome da lista: maria\n",
      "7 nome da lista: joao\n"
     ]
    }
   ],
   "source": [
    "nome = [\"gomes\", \"oliveira\", \"lucas\", \"jose\", \"pedro\", \"maria\", \"joao\"]\n",
    "\n",
    "# imprimindo a lista ignorando o indice 0 \n",
    "for i in range(len(nome)):\n",
    "    print(f\"{i+  1} nome da lista: {nome[i]}\")\n",
    "\n",
    "# recebendo novo nome para adicionar a lista\n",
    "novoNome = input(\"Digite um novo nome: \")\n",
    "\n",
    "# recebendo uma posição para adicionar a lista\n",
    "posicao = input(\"Informe a posição desejada para adicionar o novo nome: \")\n",
    "posicao = int(posicao)\n",
    "\n",
    "# corrigindo a posição dos indices\n",
    "posicao -= 1\n",
    "\n",
    "if posicao >= 0 and posicao <= len(nome):\n",
    "    nome.insert(posicao, novoNome)\n",
    "else:\n",
    "    print(\"Posição invalida\")\n",
    "print(30*\"-\",\"Lista atualizada\",30*\"-\")\n",
    "for i in range(len(nome)):\n",
    "    \n",
    "    print(f\"{i+  1} nome da lista: {nome[i]}\")"
   ]
  },
  {
   "cell_type": "code",
   "execution_count": 16,
   "metadata": {},
   "outputs": [
    {
     "name": "stdout",
     "output_type": "stream",
     "text": [
      "['gomes', 'oliveira', 'lucas', 'jose', 'pedro', 'maria', 'garoto de programa']\n"
     ]
    }
   ],
   "source": [
    "nome = [\"gomes\", \"oliveira\", \"lucas\", \"jose\", \"pedro\", \"maria\", \"joao\"]\n",
    "\n",
    "# Substituindo um valor na lista atraves do seu indice  \n",
    "nome[i] = \"garoto de programa\"\n",
    "print(nome)"
   ]
  },
  {
   "cell_type": "code",
   "execution_count": 18,
   "metadata": {},
   "outputs": [
    {
     "name": "stdout",
     "output_type": "stream",
     "text": [
      "[10, 9, 8, 7, 6, 5, 4, 3, 2, 1]\n",
      "[1, 2, 3, 4, 5, 6, 7, 8, 9, 10]\n"
     ]
    }
   ],
   "source": [
    "lista1 = [10,9,8,7,6,5,4,3,2,1]\n",
    "\n",
    "# lista Organizada\n",
    "print(lista1)\n",
    "lista1.sort()\n",
    "print(lista1)"
   ]
  },
  {
   "cell_type": "code",
   "execution_count": 20,
   "metadata": {},
   "outputs": [
    {
     "name": "stdout",
     "output_type": "stream",
     "text": [
      "[9, 2, 7, 4, 6, 5, 3, 8, 1, 10]\n",
      "[10, 9, 8, 7, 6, 5, 4, 3, 2, 1]\n"
     ]
    }
   ],
   "source": [
    "lista1 = [9,2,7,4,6,5,3,8,1,10]\n",
    "\n",
    "# lista Decrecente\n",
    "print(lista1)\n",
    "lista1.sort(reverse=True)\n",
    "print(lista1)"
   ]
  }
 ],
 "metadata": {
  "kernelspec": {
   "display_name": ".venv",
   "language": "python",
   "name": "python3"
  },
  "language_info": {
   "codemirror_mode": {
    "name": "ipython",
    "version": 3
   },
   "file_extension": ".py",
   "mimetype": "text/x-python",
   "name": "python",
   "nbconvert_exporter": "python",
   "pygments_lexer": "ipython3",
   "version": "3.12.4"
  }
 },
 "nbformat": 4,
 "nbformat_minor": 2
}
