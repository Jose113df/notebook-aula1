{
 "cells": [
  {
   "cell_type": "markdown",
   "metadata": {},
   "source": [
    "Git \n",
    "\n",
    "git init: iniciar um novo repositorio \n",
    "\n",
    "git status: verificar o estado de atualização do repositorio \n",
    "\n",
    "git add: adiciona as atualizaçoes para ser feito o commit \n",
    "\n",
    "git commit -m: commita as informaçoes (salva uma versão do repositorio)"
   ]
  }
 ],
 "metadata": {
  "language_info": {
   "name": "python"
  }
 },
 "nbformat": 4,
 "nbformat_minor": 2
}
